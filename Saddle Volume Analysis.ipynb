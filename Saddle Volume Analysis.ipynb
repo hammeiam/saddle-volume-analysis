{
 "cells": [
  {
   "cell_type": "code",
   "execution_count": null,
   "id": "fa37dcea",
   "metadata": {},
   "outputs": [],
   "source": [
    "# Quick notebook to look at saddle volume data\n",
    "# - % of volume by top n days\n",
    "# - % of volume by tokens"
   ]
  },
  {
   "cell_type": "code",
   "execution_count": 11,
   "id": "892ed845",
   "metadata": {},
   "outputs": [],
   "source": [
    "%matplotlib inline\n",
    "import pandas as pd\n",
    "import matplotlib.pyplot as plt"
   ]
  },
  {
   "cell_type": "code",
   "execution_count": 4,
   "id": "5bc2ae0d",
   "metadata": {},
   "outputs": [],
   "source": [
    "dt = pd.read_csv('2022-02-21-usd-volume.csv', header=0)"
   ]
  },
  {
   "cell_type": "code",
   "execution_count": 5,
   "id": "770de73d",
   "metadata": {},
   "outputs": [
    {
     "data": {
      "text/html": [
       "<div>\n",
       "<style scoped>\n",
       "    .dataframe tbody tr th:only-of-type {\n",
       "        vertical-align: middle;\n",
       "    }\n",
       "\n",
       "    .dataframe tbody tr th {\n",
       "        vertical-align: top;\n",
       "    }\n",
       "\n",
       "    .dataframe thead th {\n",
       "        text-align: right;\n",
       "    }\n",
       "</style>\n",
       "<table border=\"1\" class=\"dataframe\">\n",
       "  <thead>\n",
       "    <tr style=\"text-align: right;\">\n",
       "      <th></th>\n",
       "      <th>[btc] TBTC</th>\n",
       "      <th>[btc] WBTC</th>\n",
       "      <th>[btc] renBTC</th>\n",
       "      <th>[btc] SBTC</th>\n",
       "      <th>[stablecoin] DAI</th>\n",
       "      <th>[stablecoin] USDC</th>\n",
       "      <th>[stablecoin] USDT</th>\n",
       "      <th>[veth2] WETH</th>\n",
       "      <th>[veth2] vETH2</th>\n",
       "      <th>[aleth] WETH</th>\n",
       "      <th>[aleth] alETH</th>\n",
       "      <th>[aleth] sETH</th>\n",
       "      <th>[d4] alUSD</th>\n",
       "      <th>[d4] FEI</th>\n",
       "      <th>[d4] FRAX</th>\n",
       "      <th>[d4] LUSD</th>\n",
       "      <th>[stablecoin_v2] DAI</th>\n",
       "      <th>[stablecoin_v2] USDC</th>\n",
       "      <th>[stablecoin_v2] USDT</th>\n",
       "    </tr>\n",
       "  </thead>\n",
       "  <tbody>\n",
       "    <tr>\n",
       "      <th>count</th>\n",
       "      <td>3.950000e+02</td>\n",
       "      <td>3.950000e+02</td>\n",
       "      <td>3.950000e+02</td>\n",
       "      <td>3.950000e+02</td>\n",
       "      <td>3.950000e+02</td>\n",
       "      <td>3.950000e+02</td>\n",
       "      <td>3.950000e+02</td>\n",
       "      <td>3.950000e+02</td>\n",
       "      <td>3.950000e+02</td>\n",
       "      <td>3.950000e+02</td>\n",
       "      <td>3.950000e+02</td>\n",
       "      <td>3.950000e+02</td>\n",
       "      <td>3.950000e+02</td>\n",
       "      <td>3.950000e+02</td>\n",
       "      <td>3.950000e+02</td>\n",
       "      <td>3.950000e+02</td>\n",
       "      <td>3.950000e+02</td>\n",
       "      <td>3.950000e+02</td>\n",
       "      <td>3.950000e+02</td>\n",
       "    </tr>\n",
       "    <tr>\n",
       "      <th>mean</th>\n",
       "      <td>9.003740e+04</td>\n",
       "      <td>2.560366e+05</td>\n",
       "      <td>2.777935e+05</td>\n",
       "      <td>1.136137e+05</td>\n",
       "      <td>3.013515e+04</td>\n",
       "      <td>3.556118e+04</td>\n",
       "      <td>3.461419e+04</td>\n",
       "      <td>4.343423e+04</td>\n",
       "      <td>2.224227e+04</td>\n",
       "      <td>4.019338e+05</td>\n",
       "      <td>2.037054e+05</td>\n",
       "      <td>2.162074e+05</td>\n",
       "      <td>1.479961e+05</td>\n",
       "      <td>5.553629e+05</td>\n",
       "      <td>3.505172e+05</td>\n",
       "      <td>4.485825e+05</td>\n",
       "      <td>2.073825e+04</td>\n",
       "      <td>4.918883e+04</td>\n",
       "      <td>3.944127e+04</td>\n",
       "    </tr>\n",
       "    <tr>\n",
       "      <th>std</th>\n",
       "      <td>2.195232e+05</td>\n",
       "      <td>5.920633e+05</td>\n",
       "      <td>6.340159e+05</td>\n",
       "      <td>3.002776e+05</td>\n",
       "      <td>1.147052e+05</td>\n",
       "      <td>1.361755e+05</td>\n",
       "      <td>1.453813e+05</td>\n",
       "      <td>1.620468e+05</td>\n",
       "      <td>1.113243e+05</td>\n",
       "      <td>1.035896e+06</td>\n",
       "      <td>7.590260e+05</td>\n",
       "      <td>7.283720e+05</td>\n",
       "      <td>4.416905e+05</td>\n",
       "      <td>1.274908e+06</td>\n",
       "      <td>9.759122e+05</td>\n",
       "      <td>1.380476e+06</td>\n",
       "      <td>9.398148e+04</td>\n",
       "      <td>1.748085e+05</td>\n",
       "      <td>1.437009e+05</td>\n",
       "    </tr>\n",
       "    <tr>\n",
       "      <th>min</th>\n",
       "      <td>0.000000e+00</td>\n",
       "      <td>0.000000e+00</td>\n",
       "      <td>0.000000e+00</td>\n",
       "      <td>0.000000e+00</td>\n",
       "      <td>0.000000e+00</td>\n",
       "      <td>0.000000e+00</td>\n",
       "      <td>0.000000e+00</td>\n",
       "      <td>0.000000e+00</td>\n",
       "      <td>0.000000e+00</td>\n",
       "      <td>0.000000e+00</td>\n",
       "      <td>0.000000e+00</td>\n",
       "      <td>0.000000e+00</td>\n",
       "      <td>0.000000e+00</td>\n",
       "      <td>0.000000e+00</td>\n",
       "      <td>0.000000e+00</td>\n",
       "      <td>0.000000e+00</td>\n",
       "      <td>0.000000e+00</td>\n",
       "      <td>0.000000e+00</td>\n",
       "      <td>0.000000e+00</td>\n",
       "    </tr>\n",
       "    <tr>\n",
       "      <th>25%</th>\n",
       "      <td>0.000000e+00</td>\n",
       "      <td>0.000000e+00</td>\n",
       "      <td>0.000000e+00</td>\n",
       "      <td>0.000000e+00</td>\n",
       "      <td>0.000000e+00</td>\n",
       "      <td>0.000000e+00</td>\n",
       "      <td>0.000000e+00</td>\n",
       "      <td>0.000000e+00</td>\n",
       "      <td>0.000000e+00</td>\n",
       "      <td>0.000000e+00</td>\n",
       "      <td>0.000000e+00</td>\n",
       "      <td>0.000000e+00</td>\n",
       "      <td>0.000000e+00</td>\n",
       "      <td>0.000000e+00</td>\n",
       "      <td>0.000000e+00</td>\n",
       "      <td>0.000000e+00</td>\n",
       "      <td>0.000000e+00</td>\n",
       "      <td>0.000000e+00</td>\n",
       "      <td>0.000000e+00</td>\n",
       "    </tr>\n",
       "    <tr>\n",
       "      <th>50%</th>\n",
       "      <td>3.524193e+03</td>\n",
       "      <td>1.229355e+04</td>\n",
       "      <td>1.457665e+03</td>\n",
       "      <td>0.000000e+00</td>\n",
       "      <td>0.000000e+00</td>\n",
       "      <td>0.000000e+00</td>\n",
       "      <td>0.000000e+00</td>\n",
       "      <td>0.000000e+00</td>\n",
       "      <td>0.000000e+00</td>\n",
       "      <td>1.749826e+04</td>\n",
       "      <td>0.000000e+00</td>\n",
       "      <td>0.000000e+00</td>\n",
       "      <td>0.000000e+00</td>\n",
       "      <td>0.000000e+00</td>\n",
       "      <td>0.000000e+00</td>\n",
       "      <td>0.000000e+00</td>\n",
       "      <td>0.000000e+00</td>\n",
       "      <td>0.000000e+00</td>\n",
       "      <td>0.000000e+00</td>\n",
       "    </tr>\n",
       "    <tr>\n",
       "      <th>75%</th>\n",
       "      <td>8.101190e+04</td>\n",
       "      <td>2.112102e+05</td>\n",
       "      <td>2.278432e+05</td>\n",
       "      <td>1.104549e+04</td>\n",
       "      <td>1.007614e+01</td>\n",
       "      <td>2.617518e+02</td>\n",
       "      <td>1.818287e+03</td>\n",
       "      <td>0.000000e+00</td>\n",
       "      <td>0.000000e+00</td>\n",
       "      <td>2.462672e+05</td>\n",
       "      <td>4.602694e+03</td>\n",
       "      <td>4.072569e+03</td>\n",
       "      <td>5.795597e+03</td>\n",
       "      <td>6.912104e+05</td>\n",
       "      <td>3.094965e+05</td>\n",
       "      <td>3.993361e+05</td>\n",
       "      <td>7.184653e+02</td>\n",
       "      <td>4.847419e+03</td>\n",
       "      <td>1.494256e+03</td>\n",
       "    </tr>\n",
       "    <tr>\n",
       "      <th>max</th>\n",
       "      <td>2.179076e+06</td>\n",
       "      <td>4.722471e+06</td>\n",
       "      <td>5.090184e+06</td>\n",
       "      <td>2.487275e+06</td>\n",
       "      <td>1.186742e+06</td>\n",
       "      <td>1.723432e+06</td>\n",
       "      <td>1.897866e+06</td>\n",
       "      <td>1.774537e+06</td>\n",
       "      <td>1.544803e+06</td>\n",
       "      <td>9.489650e+06</td>\n",
       "      <td>1.050502e+07</td>\n",
       "      <td>6.642569e+06</td>\n",
       "      <td>3.458984e+06</td>\n",
       "      <td>1.563924e+07</td>\n",
       "      <td>1.406555e+07</td>\n",
       "      <td>2.011067e+07</td>\n",
       "      <td>1.152994e+06</td>\n",
       "      <td>1.259098e+06</td>\n",
       "      <td>1.416143e+06</td>\n",
       "    </tr>\n",
       "  </tbody>\n",
       "</table>\n",
       "</div>"
      ],
      "text/plain": [
       "         [btc] TBTC    [btc] WBTC  [btc] renBTC    [btc] SBTC  \\\n",
       "count  3.950000e+02  3.950000e+02  3.950000e+02  3.950000e+02   \n",
       "mean   9.003740e+04  2.560366e+05  2.777935e+05  1.136137e+05   \n",
       "std    2.195232e+05  5.920633e+05  6.340159e+05  3.002776e+05   \n",
       "min    0.000000e+00  0.000000e+00  0.000000e+00  0.000000e+00   \n",
       "25%    0.000000e+00  0.000000e+00  0.000000e+00  0.000000e+00   \n",
       "50%    3.524193e+03  1.229355e+04  1.457665e+03  0.000000e+00   \n",
       "75%    8.101190e+04  2.112102e+05  2.278432e+05  1.104549e+04   \n",
       "max    2.179076e+06  4.722471e+06  5.090184e+06  2.487275e+06   \n",
       "\n",
       "       [stablecoin] DAI  [stablecoin] USDC  [stablecoin] USDT  [veth2] WETH  \\\n",
       "count      3.950000e+02       3.950000e+02       3.950000e+02  3.950000e+02   \n",
       "mean       3.013515e+04       3.556118e+04       3.461419e+04  4.343423e+04   \n",
       "std        1.147052e+05       1.361755e+05       1.453813e+05  1.620468e+05   \n",
       "min        0.000000e+00       0.000000e+00       0.000000e+00  0.000000e+00   \n",
       "25%        0.000000e+00       0.000000e+00       0.000000e+00  0.000000e+00   \n",
       "50%        0.000000e+00       0.000000e+00       0.000000e+00  0.000000e+00   \n",
       "75%        1.007614e+01       2.617518e+02       1.818287e+03  0.000000e+00   \n",
       "max        1.186742e+06       1.723432e+06       1.897866e+06  1.774537e+06   \n",
       "\n",
       "       [veth2] vETH2  [aleth] WETH  [aleth] alETH  [aleth] sETH    [d4] alUSD  \\\n",
       "count   3.950000e+02  3.950000e+02   3.950000e+02  3.950000e+02  3.950000e+02   \n",
       "mean    2.224227e+04  4.019338e+05   2.037054e+05  2.162074e+05  1.479961e+05   \n",
       "std     1.113243e+05  1.035896e+06   7.590260e+05  7.283720e+05  4.416905e+05   \n",
       "min     0.000000e+00  0.000000e+00   0.000000e+00  0.000000e+00  0.000000e+00   \n",
       "25%     0.000000e+00  0.000000e+00   0.000000e+00  0.000000e+00  0.000000e+00   \n",
       "50%     0.000000e+00  1.749826e+04   0.000000e+00  0.000000e+00  0.000000e+00   \n",
       "75%     0.000000e+00  2.462672e+05   4.602694e+03  4.072569e+03  5.795597e+03   \n",
       "max     1.544803e+06  9.489650e+06   1.050502e+07  6.642569e+06  3.458984e+06   \n",
       "\n",
       "           [d4] FEI     [d4] FRAX     [d4] LUSD  [stablecoin_v2] DAI  \\\n",
       "count  3.950000e+02  3.950000e+02  3.950000e+02         3.950000e+02   \n",
       "mean   5.553629e+05  3.505172e+05  4.485825e+05         2.073825e+04   \n",
       "std    1.274908e+06  9.759122e+05  1.380476e+06         9.398148e+04   \n",
       "min    0.000000e+00  0.000000e+00  0.000000e+00         0.000000e+00   \n",
       "25%    0.000000e+00  0.000000e+00  0.000000e+00         0.000000e+00   \n",
       "50%    0.000000e+00  0.000000e+00  0.000000e+00         0.000000e+00   \n",
       "75%    6.912104e+05  3.094965e+05  3.993361e+05         7.184653e+02   \n",
       "max    1.563924e+07  1.406555e+07  2.011067e+07         1.152994e+06   \n",
       "\n",
       "       [stablecoin_v2] USDC  [stablecoin_v2] USDT  \n",
       "count          3.950000e+02          3.950000e+02  \n",
       "mean           4.918883e+04          3.944127e+04  \n",
       "std            1.748085e+05          1.437009e+05  \n",
       "min            0.000000e+00          0.000000e+00  \n",
       "25%            0.000000e+00          0.000000e+00  \n",
       "50%            0.000000e+00          0.000000e+00  \n",
       "75%            4.847419e+03          1.494256e+03  \n",
       "max            1.259098e+06          1.416143e+06  "
      ]
     },
     "execution_count": 5,
     "metadata": {},
     "output_type": "execute_result"
    }
   ],
   "source": [
    "dt.describe()"
   ]
  },
  {
   "cell_type": "markdown",
   "id": "6003cbd5",
   "metadata": {},
   "source": [
    "## Date analysis"
   ]
  },
  {
   "cell_type": "code",
   "execution_count": 6,
   "id": "c8a3ba51",
   "metadata": {},
   "outputs": [
    {
     "data": {
      "text/plain": [
       "Index(['[btc] TBTC', '[btc] WBTC', '[btc] renBTC', '[btc] SBTC',\n",
       "       '[stablecoin] DAI', '[stablecoin] USDC', '[stablecoin] USDT',\n",
       "       '[veth2] WETH', '[veth2] vETH2', '[aleth] WETH', '[aleth] alETH',\n",
       "       '[aleth] sETH', '[d4] alUSD', '[d4] FEI', '[d4] FRAX', '[d4] LUSD',\n",
       "       '[stablecoin_v2] DAI', '[stablecoin_v2] USDC', '[stablecoin_v2] USDT'],\n",
       "      dtype='object')"
      ]
     },
     "execution_count": 6,
     "metadata": {},
     "output_type": "execute_result"
    }
   ],
   "source": [
    "cols = dt.columns[1::]\n",
    "cols"
   ]
  },
  {
   "cell_type": "code",
   "execution_count": 7,
   "id": "4a99e9c3",
   "metadata": {},
   "outputs": [
    {
     "data": {
      "text/plain": [
       "count    3.950000e+02\n",
       "mean     3.337142e+06\n",
       "std      4.361138e+06\n",
       "min      1.245479e+04\n",
       "25%      9.768645e+05\n",
       "50%      2.296262e+06\n",
       "75%      4.164174e+06\n",
       "max      5.468753e+07\n",
       "Name: sum, dtype: float64"
      ]
     },
     "execution_count": 7,
     "metadata": {},
     "output_type": "execute_result"
    }
   ],
   "source": [
    "dt['sum'] = dt[cols].sum(axis=1)\n",
    "sorted_sums = dt['sum'].sort_values(ascending=False)\n",
    "total_sum = dt['sum'].sum()\n",
    "dt['sum'].describe()"
   ]
  },
  {
   "cell_type": "code",
   "execution_count": 8,
   "id": "7cd90905",
   "metadata": {},
   "outputs": [
    {
     "data": {
      "text/plain": [
       "0.19156777485451168"
      ]
     },
     "execution_count": 8,
     "metadata": {},
     "output_type": "execute_result"
    }
   ],
   "source": [
    "# Find all days at or above 2 std. devs.\n",
    "\n",
    "sums = dt['sum']\n",
    "two_std_devs_vol = sums[(sums-sums.mean()).abs()>=(2*sums.std())]\n",
    "two_std_devs_vol.sum() / total_sum\n",
    "# two_std_devs_vol"
   ]
  },
  {
   "cell_type": "code",
   "execution_count": 22,
   "id": "fe5b1e8b",
   "metadata": {},
   "outputs": [
    {
     "data": {
      "text/plain": [
       "0.25    9.768645e+05\n",
       "0.50    2.296262e+06\n",
       "0.75    4.164174e+06\n",
       "dtype: float64"
      ]
     },
     "execution_count": 22,
     "metadata": {},
     "output_type": "execute_result"
    }
   ],
   "source": [
    "sums_series.quantile(q=[.2,.4,.6,.8])"
   ]
  },
  {
   "cell_type": "code",
   "execution_count": 29,
   "id": "c8d58685",
   "metadata": {},
   "outputs": [],
   "source": [
    "# sums_series = pd.Series(sorted_sums.values)\n",
    "# sums_series.plot.bar(grid=True, figsize=(10,5), logy=True)\n",
    "# plt.xticks([])\n",
    "# plt.yticks(sums_series.quantile(q=[.2,.4,.6,.8]))"
   ]
  },
  {
   "cell_type": "code",
   "execution_count": 10,
   "id": "3a22590f",
   "metadata": {},
   "outputs": [
    {
     "data": {
      "text/plain": [
       "68"
      ]
     },
     "execution_count": 10,
     "metadata": {},
     "output_type": "execute_result"
    }
   ],
   "source": [
    "# Sort days by USD volume, count # days for top 50% of volume\n",
    "r_total = 0\n",
    "r_count = 0\n",
    "while r_total < (total_sum / 2):\n",
    "    r_total += sorted_sums.values[r_count]\n",
    "    r_count += 1\n",
    "\n",
    "# Number of top volume days that = 50% of total volume\n",
    "r_count"
   ]
  },
  {
   "cell_type": "markdown",
   "id": "cd434220",
   "metadata": {},
   "source": [
    "## Coin Analysis"
   ]
  },
  {
   "cell_type": "code",
   "execution_count": 66,
   "id": "ee67034f",
   "metadata": {},
   "outputs": [
    {
     "data": {
      "text/plain": [
       "['alETH',\n",
       " 'alUSD',\n",
       " 'DAI',\n",
       " 'FEI',\n",
       " 'FRAX',\n",
       " 'LUSD',\n",
       " 'renBTC',\n",
       " 'SBTC',\n",
       " 'sETH',\n",
       " 'TBTC',\n",
       " 'USDC',\n",
       " 'USDT',\n",
       " 'vETH2',\n",
       " 'WBTC',\n",
       " 'WETH']"
      ]
     },
     "execution_count": 66,
     "metadata": {},
     "output_type": "execute_result"
    }
   ],
   "source": [
    "coins = sorted(list(set(cols.map(lambda name: name[name.index(\" \") + 1:]))), key=str.lower)\n",
    "coins"
   ]
  },
  {
   "cell_type": "code",
   "execution_count": 67,
   "id": "912bbad7",
   "metadata": {},
   "outputs": [
    {
     "data": {
      "text/plain": [
       "[btc] TBTC              3.556477e+07\n",
       "[btc] WBTC              1.011345e+08\n",
       "[btc] renBTC            1.097284e+08\n",
       "[btc] SBTC              4.487743e+07\n",
       "[stablecoin] DAI        1.190339e+07\n",
       "[stablecoin] USDC       1.404666e+07\n",
       "[stablecoin] USDT       1.367261e+07\n",
       "[veth2] WETH            1.715652e+07\n",
       "[veth2] vETH2           8.785696e+06\n",
       "[aleth] WETH            1.587639e+08\n",
       "[aleth] alETH           8.046364e+07\n",
       "[aleth] sETH            8.540194e+07\n",
       "[d4] alUSD              5.845847e+07\n",
       "[d4] FEI                2.193683e+08\n",
       "[d4] FRAX               1.384543e+08\n",
       "[d4] LUSD               1.771901e+08\n",
       "[stablecoin_v2] DAI     8.191610e+06\n",
       "[stablecoin_v2] USDC    1.942959e+07\n",
       "[stablecoin_v2] USDT    1.557930e+07\n",
       "dtype: float64"
      ]
     },
     "execution_count": 67,
     "metadata": {},
     "output_type": "execute_result"
    }
   ],
   "source": [
    "col_sums = dt[cols].sum(axis=0)\n",
    "col_sums"
   ]
  },
  {
   "cell_type": "code",
   "execution_count": 79,
   "id": "d4644ab1",
   "metadata": {},
   "outputs": [
    {
     "data": {
      "text/plain": [
       "FEI       219,368,344\n",
       "LUSD      177,190,077\n",
       "WETH      175,920,390\n",
       "FRAX      138,454,280\n",
       "renBTC    109,728,424\n",
       "WBTC      101,134,475\n",
       "sETH       85,401,938\n",
       "alETH      80,463,641\n",
       "alUSD      58,458,467\n",
       "SBTC       44,877,431\n",
       "TBTC       35,564,772\n",
       "USDC       33,476,253\n",
       "USDT       29,251,909\n",
       "DAI        20,094,996\n",
       "vETH2       8,785,696\n",
       "dtype: object"
      ]
     },
     "execution_count": 79,
     "metadata": {},
     "output_type": "execute_result"
    }
   ],
   "source": [
    "from collections import defaultdict\n",
    "\n",
    "sums = defaultdict(lambda: 0)\n",
    "for col_index in col_sums.index:\n",
    "    for coin in coins:\n",
    "        if coin in col_index:\n",
    "            sums[coin] += col_sums[col_index]\n",
    "            continue \n",
    "\n",
    "sums = pd.Series(sums)\n",
    "sums.sort_values(ascending=False).map('{:,.0f}'.format)\n"
   ]
  },
  {
   "cell_type": "code",
   "execution_count": null,
   "id": "4379b492",
   "metadata": {},
   "outputs": [],
   "source": []
  }
 ],
 "metadata": {
  "kernelspec": {
   "display_name": "Python 3 (ipykernel)",
   "language": "python",
   "name": "python3"
  },
  "language_info": {
   "codemirror_mode": {
    "name": "ipython",
    "version": 3
   },
   "file_extension": ".py",
   "mimetype": "text/x-python",
   "name": "python",
   "nbconvert_exporter": "python",
   "pygments_lexer": "ipython3",
   "version": "3.9.9"
  }
 },
 "nbformat": 4,
 "nbformat_minor": 5
}
